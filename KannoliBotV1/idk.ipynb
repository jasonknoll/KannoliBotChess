{
 "cells": [
  {
   "cell_type": "code",
   "execution_count": 7,
   "id": "abaa2f67-749b-4704-875f-b7b1b034dc2a",
   "metadata": {},
   "outputs": [
    {
     "name": "stdout",
     "output_type": "stream",
     "text": [
      "Game ID: l7L3u3xg\n",
      "Initial Game State:\n",
      "{'id': 'l7L3u3xg', 'rated': False, 'variant': 'standard', 'speed': 'rapid', 'perf': 'rapid', 'createdAt': datetime.datetime(2023, 11, 26, 21, 46, 25, 488000, tzinfo=datetime.timezone.utc), 'lastMoveAt': datetime.datetime(2023, 11, 26, 21, 46, 27, 502000, tzinfo=datetime.timezone.utc), 'status': 'started', 'players': {'white': {'aiLevel': 2}, 'black': {'user': {'name': 'KannoliBot', 'title': 'BOT', 'id': 'kannolibot'}, 'rating': 2000, 'provisional': True}}, 'opening': {'eco': 'B00', 'name': \"King's Pawn Game\", 'ply': 1}, 'moves': 'e4', 'clocks': [30000], 'clock': {'initial': 300, 'increment': 5, 'totalTime': 500}}\n",
      "Error with Lichess API request: HTTP 400: Bad Request: {'error': 'No piece on e2'}\n"
     ]
    }
   ],
   "source": [
    "import berserk\n",
    "import json\n",
    " \n",
    "def play_lichess_game(token: str):\n",
    "    \"\"\"\n",
    "    Function to play a game with the Lichess API using the berserk library.\n",
    " \n",
    "    Parameters:\n",
    "    - token: str\n",
    "        The Lichess API token to authenticate the user.\n",
    " \n",
    "    Raises:\n",
    "    - berserk.exceptions.ResponseError:\n",
    "        Raises an error if there is an issue with the API request or response.\n",
    "    \"\"\"\n",
    " \n",
    "    # Creating a session with the Lichess API using the provided token\n",
    "    session = berserk.TokenSession(token)\n",
    " \n",
    "    # Creating a client object to interact with the Lichess API\n",
    "    client = berserk.Client(session)\n",
    " \n",
    "    try:\n",
    "        # Starting a new game with the Lichess API\n",
    "        response = client.challenges.create_ai(\n",
    "            clock_limit=300,  # Time limit for each player's moves (in seconds)\n",
    "            clock_increment=5,  # Increment added to each player's clock after a move (in seconds)\n",
    "            color=\"random\",  # Randomly assign the color (white or black) to the player\n",
    "            level=2  # Level of the AI opponent (ranging from 1 to 8)\n",
    "        )\n",
    " \n",
    "        # Extracting the game ID from the API response\n",
    "        game_id = response[\"id\"]\n",
    " \n",
    "        # Printing the game ID to the console\n",
    "        print(f\"Game ID: {game_id}\")\n",
    " \n",
    "        # Getting the current state of the game\n",
    "        game_state = client.games.export(game_id)\n",
    " \n",
    "        # Printing the initial game state to the console\n",
    "        print(\"Initial Game State:\")\n",
    "        print(game_state)\n",
    " \n",
    "        # Making a move in the game\n",
    "        move = \"e2e4\"  # Example move (e2 to e4)\n",
    "        client.bots.make_move(game_id, move)\n",
    " \n",
    "        # Getting the updated game state after making the move\n",
    "        game_state = client.games.export(game_id, as_pgn=True)\n",
    " \n",
    "        # Printing the updated game state to the console\n",
    "        print(\"Updated Game State:\")\n",
    "        print(game_state)\n",
    " \n",
    "        # Printing a message indicating that the game has been resigned\n",
    "        print(\"Game resigned.\")\n",
    " \n",
    "    except berserk.exceptions.ResponseError as e:\n",
    "        print(f\"Error with Lichess API request: {e}\")\n",
    " \n",
    "# Example usage of the play_lichess_game function\n",
    "api_token = json.load(open(\"token.json\"))['token']\n",
    "play_lichess_game(api_token)"
   ]
  },
  {
   "cell_type": "code",
   "execution_count": null,
   "id": "600af4e3-ae9d-4be8-9372-4a38322acd5b",
   "metadata": {},
   "outputs": [],
   "source": []
  }
 ],
 "metadata": {
  "kernelspec": {
   "display_name": "Python 3 (ipykernel)",
   "language": "python",
   "name": "python3"
  },
  "language_info": {
   "codemirror_mode": {
    "name": "ipython",
    "version": 3
   },
   "file_extension": ".py",
   "mimetype": "text/x-python",
   "name": "python",
   "nbconvert_exporter": "python",
   "pygments_lexer": "ipython3",
   "version": "3.11.0"
  }
 },
 "nbformat": 4,
 "nbformat_minor": 5
}
