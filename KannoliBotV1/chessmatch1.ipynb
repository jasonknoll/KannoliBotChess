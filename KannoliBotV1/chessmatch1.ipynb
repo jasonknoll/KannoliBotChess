{
 "cells": [
  {
   "cell_type": "code",
   "execution_count": 2,
   "id": "1d871658-cc80-44a0-b57a-2f425c1b84a1",
   "metadata": {},
   "outputs": [],
   "source": [
    "import chess\n",
    "import berserk\n",
    "import json\n",
    "board = chess.Board()"
   ]
  },
  {
   "cell_type": "code",
   "execution_count": 3,
   "id": "21002d92-f817-4747-9069-98289402f7c5",
   "metadata": {},
   "outputs": [],
   "source": [
    "# Get the client\n",
    "session = berserk.TokenSession(json.load(open(\"token.json\"))['token'])\n",
    "client = berserk.Client(session)"
   ]
  },
  {
   "cell_type": "code",
   "execution_count": 72,
   "id": "1d7be3e8-1cec-42c2-b996-2c855eea83d6",
   "metadata": {},
   "outputs": [
    {
     "name": "stdout",
     "output_type": "stream",
     "text": [
      "{\"id\": \"ZPZLWSFF\", \"variant\": {\"key\": \"standard\", \"name\": \"Standard\", \"short\": \"Std\"}, \"speed\": \"classical\", \"perf\": \"classical\", \"rated\": false, \"fen\": \"rnbqkbnr/pppppppp/8/8/8/8/PPPPPPPP/RNBQKBNR w KQkq - 0 1\", \"turns\": 0, \"source\": \"ai\", \"status\": {\"id\": 20, \"name\": \"started\"}, \"createdAt\": 1701034646951, \"player\": \"white\"}\n"
     ]
    }
   ],
   "source": [
    "# Challenge the bot to a 1 hour match\n",
    "info = client.challenges.create_ai(level=1, clock_limit=3600, clock_increment=30)\n",
    "gameId = info['id']\n",
    "print(json.dumps(info))"
   ]
  },
  {
   "cell_type": "code",
   "execution_count": 5,
   "id": "0e7e29b2-0407-4426-bf3b-bd4501f8d83b",
   "metadata": {},
   "outputs": [],
   "source": [
    "fen = info['fen']"
   ]
  },
  {
   "cell_type": "code",
   "execution_count": 9,
   "id": "ea5b8c6d-49ef-4942-9f50-65d03d186775",
   "metadata": {},
   "outputs": [],
   "source": [
    "def make_random_move(board_fen):\n",
    "    new_board = chess.Board(board_fen)\n",
    "    print("
   ]
  },
  {
   "cell_type": "code",
   "execution_count": 13,
   "id": "bc394e29-39a1-4cf9-846b-282be0dde2b3",
   "metadata": {},
   "outputs": [
    {
     "data": {
      "text/plain": [
       "[]"
      ]
     },
     "execution_count": 13,
     "metadata": {},
     "output_type": "execute_result"
    }
   ],
   "source": [
    "board.move_stack"
   ]
  },
  {
   "cell_type": "code",
   "execution_count": 10,
   "id": "9b7fdcbc-83b7-48c5-9359-afbce472b69b",
   "metadata": {},
   "outputs": [
    {
     "ename": "TypeError",
     "evalue": "object of type 'LegalMoveGenerator' has no len()",
     "output_type": "error",
     "traceback": [
      "\u001b[1;31m---------------------------------------------------------------------------\u001b[0m",
      "\u001b[1;31mTypeError\u001b[0m                                 Traceback (most recent call last)",
      "Cell \u001b[1;32mIn[10], line 1\u001b[0m\n\u001b[1;32m----> 1\u001b[0m \u001b[43mmake_random_move\u001b[49m\u001b[43m(\u001b[49m\u001b[43mfen\u001b[49m\u001b[43m)\u001b[49m\n",
      "Cell \u001b[1;32mIn[9], line 3\u001b[0m, in \u001b[0;36mmake_random_move\u001b[1;34m(board_fen)\u001b[0m\n\u001b[0;32m      1\u001b[0m \u001b[38;5;28;01mdef\u001b[39;00m \u001b[38;5;21mmake_random_move\u001b[39m(board_fen):\n\u001b[0;32m      2\u001b[0m     new_board \u001b[38;5;241m=\u001b[39m chess\u001b[38;5;241m.\u001b[39mBoard(board_fen)\n\u001b[1;32m----> 3\u001b[0m     \u001b[38;5;28mprint\u001b[39m(\u001b[38;5;28;43mlen\u001b[39;49m\u001b[43m(\u001b[49m\u001b[43mnew_board\u001b[49m\u001b[38;5;241;43m.\u001b[39;49m\u001b[43mlegal_moves\u001b[49m\u001b[43m)\u001b[49m)\n",
      "\u001b[1;31mTypeError\u001b[0m: object of type 'LegalMoveGenerator' has no len()"
     ]
    }
   ],
   "source": [
    "make_random_move(fen)"
   ]
  },
  {
   "cell_type": "code",
   "execution_count": 25,
   "id": "94430981-057a-46f2-98cc-bd2d47167607",
   "metadata": {},
   "outputs": [],
   "source": [
    "# move e2 to e4\n",
    "client.bots.make_move(gameId, \"e4e5\")"
   ]
  },
  {
   "cell_type": "code",
   "execution_count": 62,
   "id": "12198bac-c4d5-4a43-8121-445e0546533c",
   "metadata": {},
   "outputs": [],
   "source": [
    "# game state\n",
    "state = client.bots.stream_game_state(gameId)\n"
   ]
  },
  {
   "cell_type": "code",
   "execution_count": null,
   "id": "f81dcb97-c963-4135-b615-ca872878c469",
   "metadata": {},
   "outputs": [],
   "source": [
    "for s in state:\n",
    "    print(s)"
   ]
  },
  {
   "cell_type": "code",
   "execution_count": 60,
   "id": "cf967afe-7244-4967-911b-c3f52a424f75",
   "metadata": {},
   "outputs": [
    {
     "ename": "AttributeError",
     "evalue": "'generator' object has no attribute 'iter_events'",
     "output_type": "error",
     "traceback": [
      "\u001b[1;31m---------------------------------------------------------------------------\u001b[0m",
      "\u001b[1;31mAttributeError\u001b[0m                            Traceback (most recent call last)",
      "Cell \u001b[1;32mIn[60], line 5\u001b[0m\n\u001b[0;32m      1\u001b[0m \u001b[38;5;66;03m# game incoming events\u001b[39;00m\n\u001b[0;32m      2\u001b[0m events \u001b[38;5;241m=\u001b[39m client\u001b[38;5;241m.\u001b[39mbots\u001b[38;5;241m.\u001b[39mstream_incoming_events()\n\u001b[1;32m----> 5\u001b[0m \u001b[38;5;28;01mfor\u001b[39;00m e \u001b[38;5;129;01min\u001b[39;00m \u001b[43mevents\u001b[49m\u001b[38;5;241;43m.\u001b[39;49m\u001b[43miter_events\u001b[49m():\n\u001b[0;32m      6\u001b[0m     \u001b[38;5;28mprint\u001b[39m(e)\n",
      "\u001b[1;31mAttributeError\u001b[0m: 'generator' object has no attribute 'iter_events'"
     ]
    }
   ],
   "source": [
    "# game incoming events\n",
    "events = client.bots.stream_incoming_events()\n",
    "\n",
    "\n",
    "for e in events.iter_events():\n",
    "    print(e)"
   ]
  },
  {
   "cell_type": "code",
   "execution_count": 18,
   "id": "43b091c5-9c21-4a03-a359-e94ebb8f9a37",
   "metadata": {},
   "outputs": [],
   "source": [
    "# board stream game state (can't do this one)\n",
    "board_state = client.board.stream_game_state(gameId)"
   ]
  },
  {
   "cell_type": "code",
   "execution_count": 34,
   "id": "00b1c0a7-1d80-4dea-a715-f09860c91b1e",
   "metadata": {},
   "outputs": [
    {
     "ename": "AttributeError",
     "evalue": "'generator' object has no attribute 'game'",
     "output_type": "error",
     "traceback": [
      "\u001b[1;31m---------------------------------------------------------------------------\u001b[0m",
      "\u001b[1;31mAttributeError\u001b[0m                            Traceback (most recent call last)",
      "Cell \u001b[1;32mIn[34], line 1\u001b[0m\n\u001b[1;32m----> 1\u001b[0m fen \u001b[38;5;241m=\u001b[39m \u001b[43mevents\u001b[49m\u001b[38;5;241;43m.\u001b[39;49m\u001b[43mgame\u001b[49m\u001b[38;5;241m.\u001b[39mfen\n\u001b[0;32m      2\u001b[0m board \u001b[38;5;241m=\u001b[39m chess\u001b[38;5;241m.\u001b[39mBoard(fen)\n",
      "\u001b[1;31mAttributeError\u001b[0m: 'generator' object has no attribute 'game'"
     ]
    }
   ],
   "source": [
    "fen = events.game.fen\n",
    "board = chess.Board(fen)"
   ]
  },
  {
   "cell_type": "code",
   "execution_count": 35,
   "id": "cc372364-5b07-4114-907a-8785f1fb40f7",
   "metadata": {},
   "outputs": [],
   "source": [
    "test = chess.Board('rnbqk1nr/pppp1ppp/8/4P3/1b1p4/8/PPP2PPP/RNBQKBNR w KQkq - 1 4')"
   ]
  },
  {
   "cell_type": "code",
   "execution_count": 55,
   "id": "9e254573-847c-47b1-93ae-b267ede23feb",
   "metadata": {},
   "outputs": [
    {
     "data": {
      "text/plain": [
       "<LegalMoveGenerator at 0x2af601d8810 (Ke2, Qd2, Bd2, Nc3, Nd2, c3)>"
      ]
     },
     "execution_count": 55,
     "metadata": {},
     "output_type": "execute_result"
    }
   ],
   "source": [
    "moves = iter(test.legal_moves)\n",
    "test.legal_moves"
   ]
  },
  {
   "cell_type": "code",
   "execution_count": 56,
   "id": "6c038c79-25a5-4167-8d42-5c4e24ca7334",
   "metadata": {},
   "outputs": [
    {
     "name": "stdout",
     "output_type": "stream",
     "text": [
      "e1e2\n",
      "d1d2\n",
      "c1d2\n",
      "b1c3\n",
      "b1d2\n",
      "c2c3\n"
     ]
    }
   ],
   "source": [
    "for i in range(test.legal_moves.count()):\n",
    "    print(next(moves))"
   ]
  },
  {
   "cell_type": "code",
   "execution_count": 54,
   "id": "74221b71-2f23-4759-a5fc-f82a94da0e93",
   "metadata": {},
   "outputs": [],
   "source": [
    "client.bots.make_move(gameId, \"c1d2\")"
   ]
  },
  {
   "cell_type": "code",
   "execution_count": 70,
   "id": "02e6b8c5-1223-4968-a061-f9f193a7ceeb",
   "metadata": {},
   "outputs": [],
   "source": [
    "def on_update(event):\n",
    "    #type = event['type']\n",
    "    #fen = event['game']['fen']\n",
    "    print(event)"
   ]
  },
  {
   "cell_type": "code",
   "execution_count": null,
   "id": "ad387505-d03b-45a0-8ed3-624efaf326ac",
   "metadata": {},
   "outputs": [
    {
     "name": "stdout",
     "output_type": "stream",
     "text": [
      "{'id': 'ZPZLWSFF', 'variant': {'key': 'standard', 'name': 'Standard', 'short': 'Std'}, 'speed': 'classical', 'perf': {'name': 'Classical'}, 'rated': False, 'createdAt': datetime.datetime(2023, 11, 26, 21, 37, 26, 951000, tzinfo=datetime.timezone.utc), 'white': {'aiLevel': 1}, 'black': {'id': 'kannolibot', 'name': 'KannoliBot', 'title': 'BOT', 'rating': 2000, 'provisional': True}, 'initialFen': 'startpos', 'clock': {'initial': 3600000, 'increment': 30000}, 'type': 'gameFull', 'state': {'type': 'gameState', 'moves': 'e2e4', 'wtime': 3600000, 'btime': 3600000, 'winc': 30000, 'binc': 30000, 'status': 'aborted'}}\n"
     ]
    }
   ],
   "source": [
    "for event in client.bots.stream_game_state(gameId):\n",
    "    on_update(event)"
   ]
  },
  {
   "cell_type": "code",
   "execution_count": null,
   "id": "6700c74e-efc2-424d-a8ba-3d0369b15db9",
   "metadata": {},
   "outputs": [],
   "source": []
  }
 ],
 "metadata": {
  "kernelspec": {
   "display_name": "Python 3 (ipykernel)",
   "language": "python",
   "name": "python3"
  },
  "language_info": {
   "codemirror_mode": {
    "name": "ipython",
    "version": 3
   },
   "file_extension": ".py",
   "mimetype": "text/x-python",
   "name": "python",
   "nbconvert_exporter": "python",
   "pygments_lexer": "ipython3",
   "version": "3.11.0"
  }
 },
 "nbformat": 4,
 "nbformat_minor": 5
}
